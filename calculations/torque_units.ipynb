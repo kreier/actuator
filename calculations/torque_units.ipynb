{
  "nbformat": 4,
  "nbformat_minor": 0,
  "metadata": {
    "colab": {
      "name": "torque-units.ipynb",
      "provenance": []
    },
    "kernelspec": {
      "name": "python3",
      "display_name": "Python 3"
    }
  },
  "cells": [
    {
      "cell_type": "markdown",
      "metadata": {
        "id": "72nRVOJYHU30",
        "colab_type": "text"
      },
      "source": [
        "# Power, Energy and Torque\n",
        "\n",
        "For cars people talk about their max torque and power in relation to their maximum acceleration. How is that related to energy and can be converted?\n",
        "\n",
        "## Servo torque\n",
        "\n",
        "Servos give their torque in $kgcm$ which is not really a unit. SG90 has $2.4 kgcm$, bigger servos have $20 kgcm$. What is that unit? Isn't torque in $Nm$?\n",
        "\n",
        "__First__ the kilogram is used as replacement for the force, using $W = mg$ with $g = 9.81ms^{-2}$ as gravitational acceleration, $W$ the weight in Newton and $m$ the mass in kilogram. With 2% error we can estimate $g \\approx 10 ms^{2}$ and then $1 kg \\equiv 10N$.\n",
        "\n",
        "In Physics we used more the angular momentum $\\mathbf{L}$ wich relates to the torque in\n",
        "\n",
        "$$\\tau = \\frac{\\mathrm{d}\\mathbf{L}}{\\mathrm{d}t}$$"
      ]
    },
    {
      "cell_type": "code",
      "metadata": {
        "id": "3Du8RfEiExLw",
        "colab_type": "code",
        "colab": {
          "base_uri": "https://localhost:8080/",
          "height": 34
        },
        "outputId": "067e113d-cbff-4718-f65d-7940c602b8ec"
      },
      "source": [
        "F = 2        # force in Newton\n",
        "r = 1        # radius, distance from center for force\n",
        "tau = F * r  # torque in Nm if F is perpendicular to r\n",
        "\n",
        "print(\"The torque is {:} Nm.\".format(tau))"
      ],
      "execution_count": 2,
      "outputs": [
        {
          "output_type": "stream",
          "text": [
            "The torque is 2 Nm.\n"
          ],
          "name": "stdout"
        }
      ]
    },
    {
      "cell_type": "markdown",
      "metadata": {
        "id": "xTcaISTUPafN",
        "colab_type": "text"
      },
      "source": [
        "Now let's got to power $P$ and energy $E = Pt$ wich is power times time."
      ]
    }
  ]
}